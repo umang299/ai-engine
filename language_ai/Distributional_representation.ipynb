{
 "cells": [
  {
   "cell_type": "markdown",
   "metadata": {},
   "source": [
    "## Sentiment analysis: Towards vector representation\n",
    "\n",
    "### Introduction<br>\n",
    "For any task involving natural language processing, there are several factors that influence the metrics of the system like size of text corpus, vectorization technique, choice of model to name a few. In this notebook we will try to understand one such important step in the NLP lifecyle i.e., vectorization. <br>\n",
    "\n",
    "**What is vectorization?**<br>\n",
    "Machine learning models or neural networks do not understand raw text data. It needs to converted to some numeric representation for it to be ingested into a model. Vectorizers serve this exact purpose of converting raw text to numeric vectors.<br>\n",
    "\n",
    "There are many methods out there that can be used to achieve this. On a high level they can be categorised into two groups<br>\n",
    "\n",
    "1. Distributional similarity based : Meaning of a word is derived from the context it is used in.<br>\n",
    "2. Distributional hypothesis based. : Words used in similar context have similar meaning.<br>\n",
    "\n",
    "To give a brief of each of these categories:<br>\n",
    "Distributional similarity based vectorizers, derive the representation of a word or a character from a co-occurance matrix of words and thier context. It creates high dimensional sparse vectors to represent a word. These representations are called **distributional representations**.<br>\n",
    "\n",
    "**Distributional representation techniques**:\n",
    "1. One Hot encoding\n",
    "2. Bag of words\n",
    "3. Bag of N-grams\n",
    "4. TF-IDF (Term frequency inverse document frequency)\n",
    "\n",
    "Distributed Hypothesis derives representation of word by training a neural network to generate low dimensional, dense representations of words, such that words used in similar context have similar representations. These representations are called **distributed representations**\n",
    "\n",
    "**Distributioned representation techniques**:\n",
    "1. Word2Vec<br>\n",
    "<t>a. CBoW<br>\n",
    "<t>b. Skip-gram<br>\n",
    "2. Glove<br>\n",
    "3. fasttext<br>\n",
    "\n",
    "In this notebook we will look deep into distributional similarity and how much do these vectorization techniques impact the performance of the model."
   ]
  },
  {
   "cell_type": "code",
   "execution_count": 21,
   "metadata": {},
   "outputs": [],
   "source": [
    "# importing necessary packages\n",
    "import re\n",
    "import numpy as np\n",
    "import pandas as pd\n",
    "from collections import Counter\n",
    "import warnings\n",
    "\n",
    "import seaborn as sns\n",
    "import matplotlib.pyplot as plt\n",
    "\n",
    "import nltk\n",
    "from bs4 import BeautifulSoup\n",
    "\n",
    "from sklearn.manifold import TSNE\n",
    "from sklearn.metrics import accuracy_score, f1_score\n",
    "from sklearn.linear_model import LogisticRegression\n",
    "from sklearn.preprocessing import LabelBinarizer\n",
    "from sklearn.model_selection import train_test_split\n",
    "from sklearn.feature_extraction.text import CountVectorizer, TfidfVectorizer\n",
    "\n",
    "stopwords = nltk.corpus.stopwords.words(\"english\")\n",
    "warnings.filterwarnings(\"ignore\")"
   ]
  },
  {
   "cell_type": "markdown",
   "metadata": {},
   "source": [
    "### Loading Data\n",
    "\n",
    "We will used the famous **IMDB_dataset.csv** which has 50000 movie reviews and thier corresponding sentiment. We will use the first 10000 reviews for the sake of simplicity.\n",
    "\n",
    "You can follow along this notebook by downloading data from the below link<br>\n",
    "*https://www.kaggle.com/datasets/lakshmi25npathi/imdb-dataset-of-50k-movie-reviews?select=IMDB+Dataset.csv*"
   ]
  },
  {
   "cell_type": "code",
   "execution_count": 22,
   "metadata": {},
   "outputs": [
    {
     "data": {
      "text/html": [
       "<div>\n",
       "<style scoped>\n",
       "    .dataframe tbody tr th:only-of-type {\n",
       "        vertical-align: middle;\n",
       "    }\n",
       "\n",
       "    .dataframe tbody tr th {\n",
       "        vertical-align: top;\n",
       "    }\n",
       "\n",
       "    .dataframe thead th {\n",
       "        text-align: right;\n",
       "    }\n",
       "</style>\n",
       "<table border=\"1\" class=\"dataframe\">\n",
       "  <thead>\n",
       "    <tr style=\"text-align: right;\">\n",
       "      <th></th>\n",
       "      <th>review</th>\n",
       "      <th>sentiment</th>\n",
       "    </tr>\n",
       "  </thead>\n",
       "  <tbody>\n",
       "    <tr>\n",
       "      <th>0</th>\n",
       "      <td>One of the other reviewers has mentioned that ...</td>\n",
       "      <td>positive</td>\n",
       "    </tr>\n",
       "    <tr>\n",
       "      <th>1</th>\n",
       "      <td>A wonderful little production. &lt;br /&gt;&lt;br /&gt;The...</td>\n",
       "      <td>positive</td>\n",
       "    </tr>\n",
       "    <tr>\n",
       "      <th>2</th>\n",
       "      <td>I thought this was a wonderful way to spend ti...</td>\n",
       "      <td>positive</td>\n",
       "    </tr>\n",
       "    <tr>\n",
       "      <th>3</th>\n",
       "      <td>Basically there's a family where a little boy ...</td>\n",
       "      <td>negative</td>\n",
       "    </tr>\n",
       "    <tr>\n",
       "      <th>4</th>\n",
       "      <td>Petter Mattei's \"Love in the Time of Money\" is...</td>\n",
       "      <td>positive</td>\n",
       "    </tr>\n",
       "  </tbody>\n",
       "</table>\n",
       "</div>"
      ],
      "text/plain": [
       "                                              review sentiment\n",
       "0  One of the other reviewers has mentioned that ...  positive\n",
       "1  A wonderful little production. <br /><br />The...  positive\n",
       "2  I thought this was a wonderful way to spend ti...  positive\n",
       "3  Basically there's a family where a little boy ...  negative\n",
       "4  Petter Mattei's \"Love in the Time of Money\" is...  positive"
      ]
     },
     "execution_count": 22,
     "metadata": {},
     "output_type": "execute_result"
    }
   ],
   "source": [
    "csv_file = \"data\\IMDB_dataset.csv\"\n",
    "df = pd.read_csv(csv_file)\n",
    "df = df.iloc[:10000, :]\n",
    "df.head()"
   ]
  },
  {
   "cell_type": "code",
   "execution_count": 23,
   "metadata": {},
   "outputs": [
    {
     "name": "stdout",
     "output_type": "stream",
     "text": [
      "<class 'pandas.core.frame.DataFrame'>\n",
      "RangeIndex: 10000 entries, 0 to 9999\n",
      "Data columns (total 2 columns):\n",
      " #   Column     Non-Null Count  Dtype \n",
      "---  ------     --------------  ----- \n",
      " 0   review     10000 non-null  object\n",
      " 1   sentiment  10000 non-null  object\n",
      "dtypes: object(2)\n",
      "memory usage: 156.4+ KB\n"
     ]
    }
   ],
   "source": [
    "df.info()"
   ]
  },
  {
   "cell_type": "code",
   "execution_count": 24,
   "metadata": {},
   "outputs": [],
   "source": [
    "### utilities\n",
    "def remove_special_characters(text):\n",
    "    \"\"\"Function to parse raw review data and extract\n",
    "        text from it.\n",
    "    \"\"\"\n",
    "    soup = BeautifulSoup(text, \"html.parser\")\n",
    "    text = soup.get_text()\n",
    "    text = re.sub('\\[[^]]*\\]', '', text)\n",
    "    text = re.sub('[^a-zA-z0-9\\s+\\,]','',text)\n",
    "    text = re.sub('\\.{2,}','',text)\n",
    "    return text\n",
    "\n",
    "def remove_stopwords(text):\n",
    "    \"\"\"Function to remove stopwords\"\"\"\n",
    "    text = text.lower()\n",
    "    words = text.split(\" \")\n",
    "    filtered_words = [i for i in words if i not in stopwords]\n",
    "    filtered_words = ' '.join(filtered_words)\n",
    "    return filtered_words\n",
    "\n",
    "class BuildVocab:\n",
    "    \"\"\"Class to build vocabulary for a given series of reviews and vocab size\"\"\"\n",
    "    def __init__(self, sentences: pd.Series, vocab_size:int, unk_token=False):\n",
    "        self.sentences = sentences\n",
    "        self.vocab_size = vocab_size\n",
    "        self.oov_token = unk_token\n",
    "    \n",
    "    def __process_sentences(self, sentence:str):\n",
    "        sentence = re.sub(r'[^a-zA-Z\\s+]', '', sentence).strip()\n",
    "        return sentence\n",
    "    \n",
    "    def __sentence2words(self, sentence: str):\n",
    "        word_list = list()\n",
    "        for word in sentence.split(\" \"):\n",
    "            if len(word) >= 1:\n",
    "                word_list.append(word)\n",
    "            else:\n",
    "                pass\n",
    "        return list(word_list)\n",
    "    \n",
    "    def __get_word_dictionary(self, sentences:list):\n",
    "        words = list()\n",
    "        for sentence in sentences:\n",
    "            word_list = self.__sentence2words(sentence=sentence)\n",
    "            words.extend(word_list)\n",
    "        return list(words)\n",
    "    \n",
    "    def __get_topn_words(self, word_dictionary:dict):\n",
    "        sorted_items = sorted(word_dictionary.items(), key=lambda item: item[1], reverse=True)\n",
    "        top_n_words = [word for word, _ in sorted_items[:self.vocab_size]]\n",
    "        return top_n_words\n",
    "\n",
    "\n",
    "    def build(self):\n",
    "        sentences = self.sentences.apply(self.__process_sentences)\n",
    "        words = self.__get_word_dictionary(sentences=sentences.values)\n",
    "        word_count_dict = Counter(words)\n",
    "        vocab = self.__get_topn_words(word_dictionary=word_count_dict)\n",
    "        \n",
    "        if self.oov_token:\n",
    "            vocab.append(\"UNK\")\n",
    "        else:\n",
    "            pass\n",
    "\n",
    "        index_dict = {x: index for x, index in zip(vocab, range(len(vocab)))}\n",
    "\n",
    "        return vocab, index_dict"
   ]
  },
  {
   "cell_type": "code",
   "execution_count": 25,
   "metadata": {},
   "outputs": [
    {
     "name": "stdout",
     "output_type": "stream",
     "text": [
      "Number of reviews : 10000\n"
     ]
    },
    {
     "data": {
      "text/plain": [
       "<Axes: xlabel='sentiment', ylabel='count'>"
      ]
     },
     "execution_count": 25,
     "metadata": {},
     "output_type": "execute_result"
    },
    {
     "data": {
      "image/png": "[encoded data removed]",
      "text/plain": [
       "<Figure size 640x480 with 1 Axes>"
      ]
     },
     "metadata": {},
     "output_type": "display_data"
    }
   ],
   "source": [
    "print(f\"Number of reviews : {len(df['review'].values)}\")\n",
    "sns.countplot(data=df, x=\"sentiment\")"
   ]
  },
  {
   "cell_type": "code",
   "execution_count": 26,
   "metadata": {},
   "outputs": [
    {
     "data": {
      "text/plain": [
       "\"One of the other reviewers has mentioned that after watching just 1 Oz episode you'll be hooked. They are right, as this is exactly what happened with me.<br /><br />The first thing that struck me about Oz was its brutality and unflinching scenes of violence, which set in right from the word GO. Trust me, this is not a show for the faint hearted or timid. This show pulls no punches with regards to drugs, sex or violence. Its is hardcore, in the classic use of the word.<br /><br />It is called OZ as that is the nickname given to the Oswald Maximum Security State Penitentary. It focuses mainly on Emerald City, an experimental section of the prison where all the cells have glass fronts and face inwards, so privacy is not high on the agenda. Em City is home to many..Aryans, Muslims, gangstas, Latinos, Christians, Italians, Irish and more....so scuffles, death stares, dodgy dealings and shady agreements are never far away.<br /><br />I would say the main appeal of the show is due to the fact that it goes where other shows wouldn't dare. Forget pretty pictures painted for mainstream audiences, forget charm, forget romance...OZ doesn't mess around. The first episode I ever saw struck me as so nasty it was surreal, I couldn't say I was ready for it, but as I watched more, I developed a taste for Oz, and got accustomed to the high levels of graphic violence. Not just violence, but injustice (crooked guards who'll be sold out for a nickel, inmates who'll kill on order and get away with it, well mannered, middle class inmates being turned into prison bitches due to their lack of street skills or prison experience) Watching Oz, you may become comfortable with what is uncomfortable viewing....thats if you can get in touch with your darker side.\""
      ]
     },
     "execution_count": 26,
     "metadata": {},
     "output_type": "execute_result"
    }
   ],
   "source": [
    "## viewing a sample review before applying data transformation\n",
    "df['review'].values[0]"
   ]
  },
  {
   "cell_type": "markdown",
   "metadata": {},
   "source": [
    "### Cleaning and preprocessing"
   ]
  },
  {
   "cell_type": "code",
   "execution_count": 27,
   "metadata": {},
   "outputs": [],
   "source": [
    "## Cleaning and removing stopwords from reviews\n",
    "df['review'] = df['review'].apply(remove_special_characters)\n",
    "df['review'] = df['review'].apply(remove_stopwords)"
   ]
  },
  {
   "cell_type": "code",
   "execution_count": 28,
   "metadata": {},
   "outputs": [],
   "source": [
    "## Building vocabulary with desired vocab size\n",
    "vocab, vocab_dict = BuildVocab(sentences=df['review'], vocab_size=1000, unk_token=True).build()"
   ]
  },
  {
   "cell_type": "code",
   "execution_count": 29,
   "metadata": {},
   "outputs": [
    {
     "name": "stdout",
     "output_type": "stream",
     "text": [
      "(8000,) (8000,) (2000,) (2000,)\n"
     ]
    }
   ],
   "source": [
    "## Spliting the data into train and test sets\n",
    "train_x, test_x, train_y, test_y = train_test_split(df['review'].values, df['sentiment'].values, test_size=0.2, random_state=22)\n",
    "print(train_x.shape, train_y.shape, test_x.shape, test_y.shape )"
   ]
  },
  {
   "cell_type": "markdown",
   "metadata": {},
   "source": [
    "## Vectorization\n",
    "\n",
    "### *One hot encoding*<br>\n",
    "With a vocabulary size of N words, **each word** is represented by a N-dimensional vector With all zeros except indices where the words are present.<br>\n",
    "\n",
    "*Limitations*\n",
    "1. *No semantic meaning,* i.e., low cosine similarity between related words like (apple, mango), (boy, girl), (laptop, developer).\n",
    "2. *Sparse representation* can cause computational inefficiency with a large vocabulary.\n",
    "3. *OOV,* i.e., cannot create representations for words that are not present in vocabulary.\n",
    "4. *Fixed length vector representation,* not all sentences in a passage of text have same number of words.\n",
    "\n",
    "<br>\n",
    "<br>\n",
    "\n",
    "### *Bag of words*<br>\n",
    "Based on frequency of unique word (vocabulary) present in a text corpus. **Each sentence** is represented by a vector of length same as size of vocabulary. Each index is frequency count of word present in the sentence.<br>\n",
    "\n",
    "*How is it better than one hot encoding:*<br>\n",
    "\n",
    "1. *Fixed length vector representation,* now every sentence irrespective of number of words will have same size.<br>\n",
    "\n",
    "*Limitations*<br>\n",
    "1. *Sparsity,* larger vocabulary can create high dimensional vectors.<br>\n",
    "2. *No semantic meaning* does not store any information about the context.<br> \n",
    "3. Susceptible to slight variation, small changes can make the representations change drastically.<br>\n",
    "<br>\n",
    "<t>Example: ***he** ran Vs **they** ran*</t><br>\n",
    "<br>\n",
    "4. *OOV,* i.e., cannot create representations for words that are not present in vocabulary.<br>"
   ]
  },
  {
   "cell_type": "code",
   "execution_count": 30,
   "metadata": {},
   "outputs": [],
   "source": [
    "bow = CountVectorizer(max_features=150)\n",
    "bow = bow.fit(train_x)"
   ]
  },
  {
   "cell_type": "markdown",
   "metadata": {},
   "source": [
    "### Bag of N-grams\n",
    "Instead of counting frequency of individual tokens, we **count the frequency of group of N-tokens.** Each group is called a N-gram.<br>\n",
    "\n",
    "*How is it better than BoW:*<br>\n",
    "1. *Improved semantic understanding,* sentences with same group of words will have similar representation.<br>\n",
    "\n",
    "*Limitations:*\n",
    "1. *Sparsity* as the vocabulary increases.<br>\n",
    "2. *OOV,* i.e., cannot create representations for words that are not present in vocabulary.<br>\n",
    "3. *High dimensionality,* due to large vocabulary.<br>"
   ]
  },
  {
   "cell_type": "code",
   "execution_count": 31,
   "metadata": {},
   "outputs": [],
   "source": [
    "N=3\n",
    "bng = CountVectorizer(ngram_range=(N, N))\n",
    "bng = bng.fit(train_x)"
   ]
  },
  {
   "cell_type": "markdown",
   "metadata": {},
   "source": [
    "### TF-IDF: Term Frequency Inverse Document Frequency\n",
    "Assigns a single float value to a word relative to other words in the sentence and corpus. Frequently occuring words will have lower value and rare words will have higher value hence higher importance.\n",
    "\n",
    "$$\n",
    "TF(x) = (Frequency(x)_{sentence} / Count(tokens)_{sentence}\n",
    "$$\n",
    "\n",
    "$$\n",
    "IDF(x) = log(Count(sentences)/ Count(sentences)_{x}\n",
    "$$\n",
    "\n",
    "$$\n",
    "TF_IDF(x) = TF(x)*IDF(x)\n",
    "$$\n",
    "\n",
    "*How is it better than BoN:*\n",
    "\n",
    "1. *Improves semantic understanding,* by assigning weightage to more important words in a sentence.\n",
    "\n",
    "*Limitations*\n",
    "\n",
    "1. *OOV,* i.e., cannot create representations for words that are not present in vocabulary.\n",
    "2. *Sparsity,* as vocabulary increases.\n",
    "3. *High dimensionality,* as vocabulary increases."
   ]
  },
  {
   "cell_type": "code",
   "execution_count": 32,
   "metadata": {},
   "outputs": [],
   "source": [
    "tfidf = TfidfVectorizer(max_features=500)\n",
    "tfidf = tfidf.fit(train_x)"
   ]
  },
  {
   "cell_type": "code",
   "execution_count": 33,
   "metadata": {},
   "outputs": [],
   "source": [
    "bow_train_x, bow_test_x = bow.transform(train_x), bow.transform(test_x)\n",
    "bng_train_x, bng_test_x = bng.transform(train_x), bng.transform(test_x)\n",
    "tfidf_train_x, tfidf_test_x = tfidf.transform(train_x), tfidf.transform(test_x)"
   ]
  },
  {
   "cell_type": "code",
   "execution_count": 34,
   "metadata": {},
   "outputs": [
    {
     "name": "stdout",
     "output_type": "stream",
     "text": [
      "(8000, 1) (2000, 1)\n"
     ]
    }
   ],
   "source": [
    "encoder = LabelBinarizer()\n",
    "encoder = encoder.fit(train_y)\n",
    "\n",
    "\n",
    "train_y, test_y = encoder.transform(train_y), encoder.transform(test_y)\n",
    "print(train_y.shape, test_y.shape)"
   ]
  },
  {
   "cell_type": "markdown",
   "metadata": {},
   "source": [
    "## Modeling. \n",
    "We will use a logistic regression model to train and evalute performance when used with different types of vectorizer."
   ]
  },
  {
   "cell_type": "code",
   "execution_count": 35,
   "metadata": {},
   "outputs": [],
   "source": [
    "## Defining and training model\n",
    "lr_bow = LogisticRegression(penalty=\"l2\", max_iter=500, C=1, random_state=42)\n",
    "lr_bow = lr_bow.fit(bow_train_x, train_y)\n",
    "\n",
    "lr_bng = LogisticRegression(penalty=\"l2\", max_iter=500, C=1, random_state=42)\n",
    "lr_bng = lr_bng.fit(bng_train_x, train_y)\n",
    "\n",
    "lr_tfidf = LogisticRegression(penalty=\"l2\", max_iter=500, C=1, random_state=42)\n",
    "lr_tfidf = lr_tfidf.fit(tfidf_train_x, train_y)"
   ]
  },
  {
   "cell_type": "code",
   "execution_count": 36,
   "metadata": {},
   "outputs": [],
   "source": [
    "## Making predictions\n",
    "bow_train_pred = lr_bow.predict(bow_train_x)\n",
    "bow_test_pred = lr_bow.predict(bow_test_x)\n",
    "\n",
    "train_acc_bow = accuracy_score(train_y, bow_train_pred)\n",
    "train_f1_bow = f1_score(train_y, bow_train_pred)\n",
    "\n",
    "test_acc_bow = accuracy_score(test_y, bow_test_pred)\n",
    "test_f1_bow = f1_score(test_y, bow_test_pred)\n",
    "\n",
    "\n",
    "bng_train_pred = lr_bng.predict(bng_train_x)\n",
    "bng_test_pred = lr_bng.predict(bng_test_x)\n",
    "\n",
    "train_acc_bng = accuracy_score(train_y, bng_train_pred)\n",
    "train_f1_bng = f1_score(train_y, bng_train_pred)\n",
    "\n",
    "test_acc_bng = accuracy_score(test_y, bng_test_pred)\n",
    "test_f1_bng = f1_score(test_y, bng_test_pred)\n",
    "\n",
    "tfidf_train_pred = lr_tfidf.predict(tfidf_train_x)\n",
    "tfidf_test_pred = lr_tfidf.predict(tfidf_test_x)\n",
    "\n",
    "train_acc_tfidf = accuracy_score(train_y, tfidf_train_pred)\n",
    "train_f1_tfidf = f1_score(train_y, tfidf_train_pred)\n",
    "\n",
    "test_acc_tfidf = accuracy_score(test_y, tfidf_test_pred)\n",
    "test_f1_tfidf = f1_score(test_y, tfidf_test_pred)\n",
    "\n"
   ]
  },
  {
   "cell_type": "code",
   "execution_count": 37,
   "metadata": {},
   "outputs": [
    {
     "data": {
      "text/html": [
       "<div>\n",
       "<style scoped>\n",
       "    .dataframe tbody tr th:only-of-type {\n",
       "        vertical-align: middle;\n",
       "    }\n",
       "\n",
       "    .dataframe tbody tr th {\n",
       "        vertical-align: top;\n",
       "    }\n",
       "\n",
       "    .dataframe thead th {\n",
       "        text-align: right;\n",
       "    }\n",
       "</style>\n",
       "<table border=\"1\" class=\"dataframe\">\n",
       "  <thead>\n",
       "    <tr style=\"text-align: right;\">\n",
       "      <th></th>\n",
       "      <th>train_acc</th>\n",
       "      <th>train_f1</th>\n",
       "      <th>test_acc</th>\n",
       "      <th>test_f1</th>\n",
       "    </tr>\n",
       "  </thead>\n",
       "  <tbody>\n",
       "    <tr>\n",
       "      <th>Bag of words</th>\n",
       "      <td>0.762375</td>\n",
       "      <td>0.766203</td>\n",
       "      <td>0.7330</td>\n",
       "      <td>0.745956</td>\n",
       "    </tr>\n",
       "    <tr>\n",
       "      <th>Bag of N-grams</th>\n",
       "      <td>1.000000</td>\n",
       "      <td>1.000000</td>\n",
       "      <td>0.6555</td>\n",
       "      <td>0.735712</td>\n",
       "    </tr>\n",
       "    <tr>\n",
       "      <th>TFIDF</th>\n",
       "      <td>0.858250</td>\n",
       "      <td>0.859480</td>\n",
       "      <td>0.8275</td>\n",
       "      <td>0.836260</td>\n",
       "    </tr>\n",
       "  </tbody>\n",
       "</table>\n",
       "</div>"
      ],
      "text/plain": [
       "                train_acc  train_f1  test_acc   test_f1\n",
       "Bag of words     0.762375  0.766203    0.7330  0.745956\n",
       "Bag of N-grams   1.000000  1.000000    0.6555  0.735712\n",
       "TFIDF            0.858250  0.859480    0.8275  0.836260"
      ]
     },
     "execution_count": 37,
     "metadata": {},
     "output_type": "execute_result"
    }
   ],
   "source": [
    "## Evalution metrics\n",
    "pd.DataFrame({\"train_acc\" : [train_acc_bow, train_acc_bng, train_acc_tfidf],\n",
    "              \"train_f1\" : [train_f1_bow, train_f1_bng, train_f1_tfidf], \n",
    "              \"test_acc\" : [test_acc_bow, test_acc_bng, test_acc_tfidf],\n",
    "              \"test_f1\" :  [test_f1_bow, test_f1_bng, test_f1_tfidf]},\n",
    "              index=['Bag of words', 'Bag of N-grams', 'TFIDF'])\n"
   ]
  },
  {
   "cell_type": "markdown",
   "metadata": {},
   "source": [
    "## Explainability\n",
    "Clearly the model trained on TFIDF vectorizer has outperformed BoW and Bag of N-grams model. Now, we will try to get an peak into the representations of these vectors generated by BoW and TFIDF to visualize the similarity and difference between vectors with positive sentiment and vectors with negative sentiment.<br>\n",
    "\n",
    "For this, we will use TSNE to decompose high dimension sparse vectors to a low dimensional dense vector which are easy to visualize. "
   ]
  },
  {
   "cell_type": "code",
   "execution_count": 40,
   "metadata": {},
   "outputs": [
    {
     "data": {
      "text/plain": [
       "Text(0.5, 1.0, 'Component Analysis On Bag Of Word Vectors')"
      ]
     },
     "execution_count": 40,
     "metadata": {},
     "output_type": "execute_result"
    },
    {
     "data": {
      "image/png": "[encoded data removed]",
      "text/plain": [
       "<Figure size 640x480 with 1 Axes>"
      ]
     },
     "metadata": {},
     "output_type": "display_data"
    }
   ],
   "source": [
    "bow_tsne = TSNE(n_components=2, perplexity=10, n_iter=250, init=\"random\")\n",
    "bow_tsne.fit(bow_train_x.toarray())\n",
    "\n",
    "tsne_bow_train_x = bow_tsne.fit_transform(bow_train_x.toarray())\n",
    "bow_tsne_df = pd.DataFrame({\"comp1\" : tsne_bow_train_x[:, 0].tolist(),\n",
    "                           \"comp2\" : tsne_bow_train_x[:, 1].tolist(),\n",
    "                           \"target\" : train_y.flatten().tolist()})\n",
    "\n",
    "bow_tsne_df['target'] = bow_tsne_df['target'].apply(lambda x : encoder.classes_[x])\n",
    "sns.scatterplot(x=\"comp1\", y=\"comp2\", hue=\"target\", data=bow_tsne_df)\n",
    "plt.title(\"Component Analysis On Bag Of Word Vectors\")"
   ]
  },
  {
   "cell_type": "code",
   "execution_count": 39,
   "metadata": {},
   "outputs": [
    {
     "data": {
      "text/plain": [
       "Text(0.5, 1.0, 'Component Analysis On TFIDF Vectors')"
      ]
     },
     "execution_count": 39,
     "metadata": {},
     "output_type": "execute_result"
    },
    {
     "data": {
      "image/png": "[encoded data removed]",
      "text/plain": [
       "<Figure size 640x480 with 1 Axes>"
      ]
     },
     "metadata": {},
     "output_type": "display_data"
    }
   ],
   "source": [
    "#### decomposed bag of words dataframe\n",
    "tfidf_tsne = TSNE(n_components=2, perplexity=10, n_iter=250, init=\"random\")\n",
    "tfidf_tsne.fit(tfidf_train_x.toarray())\n",
    "\n",
    "tsne_tfidf_train_x = tfidf_tsne.fit_transform(tfidf_train_x.toarray())\n",
    "tfidf_tsne_df = pd.DataFrame({\"comp1\" : tsne_tfidf_train_x[:, 0].tolist(),\n",
    "                           \"comp2\" : tsne_tfidf_train_x[:, 1].tolist(),\n",
    "                           \"target\" : train_y.flatten().tolist()})\n",
    "\n",
    "tfidf_tsne_df['target'] = tfidf_tsne_df['target'].apply(lambda x : encoder.classes_[x])\n",
    "sns.scatterplot(x=\"comp1\", y=\"comp2\", hue=\"target\", data=tfidf_tsne_df)\n",
    "plt.title(\"Component Analysis On TFIDF Vectors\")"
   ]
  },
  {
   "cell_type": "code",
   "execution_count": null,
   "metadata": {},
   "outputs": [],
   "source": []
  },
  {
   "cell_type": "code",
   "execution_count": null,
   "metadata": {},
   "outputs": [],
   "source": []
  }
 ],
 "metadata": {
  "kernelspec": {
   "display_name": "base_env",
   "language": "python",
   "name": "python3"
  },
  "language_info": {
   "codemirror_mode": {
    "name": "ipython",
    "version": 3
   },
   "file_extension": ".py",
   "mimetype": "text/x-python",
   "name": "python",
   "nbconvert_exporter": "python",
   "pygments_lexer": "ipython3",
   "version": "3.10.10"
  },
  "orig_nbformat": 4
 },
 "nbformat": 4,
 "nbformat_minor": 2
}
